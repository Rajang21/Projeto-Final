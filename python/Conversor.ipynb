{
 "cells": [
  {
   "cell_type": "code",
   "execution_count": 23,
   "metadata": {},
   "outputs": [
    {
     "data": {
      "application/vnd.jupyter.widget-view+json": {
       "model_id": "b8427181386f4af691667933289353e3",
       "version_major": 2,
       "version_minor": 0
      },
      "text/plain": [
       "Text(value='', placeholder='keyword')"
      ]
     },
     "metadata": {},
     "output_type": "display_data"
    },
    {
     "data": {
      "application/vnd.jupyter.widget-view+json": {
       "model_id": "e21c8f9d1267448c844d2646cde648e4",
       "version_major": 2,
       "version_minor": 0
      },
      "text/plain": [
       "Dropdown(description='Type:', options=('all', 'pdf', 'python', 'latex'), value='all')"
      ]
     },
     "metadata": {},
     "output_type": "display_data"
    },
    {
     "data": {
      "application/vnd.jupyter.widget-view+json": {
       "model_id": "27e78d19f56241b0b8fdcbb446fe7cfe",
       "version_major": 2,
       "version_minor": 0
      },
      "text/plain": [
       "Button(description='Search', icon='search', style=ButtonStyle())"
      ]
     },
     "metadata": {},
     "output_type": "display_data"
    },
    {
     "data": {
      "application/vnd.jupyter.widget-view+json": {
       "model_id": "e3e488b07bf14cf3a50952f177f1ed81",
       "version_major": 2,
       "version_minor": 0
      },
      "text/plain": [
       "Output()"
      ]
     },
     "metadata": {},
     "output_type": "display_data"
    }
   ],
   "source": [
    "# -*- coding: utf-8 -*-\n",
    "import fitz  # PyMUPDF\n",
    "import os\n",
    "import unidecode\n",
    "import re\n",
    "import voila\n",
    "import ipywidgets\n",
    "from pylatexenc.latexwalker import LatexWalker, LatexEnvironmentNode\n",
    "from pylatexenc.latex2text import LatexNodes2Text\n",
    "\n",
    "\"\"\"\n",
    "    Class Local Search representa um motor de pesquisa capaz de pesquisar por exercicios de\n",
    "    python em .pdf .tex e .py numa diretoria local.\n",
    "\n",
    "    Os ficheiros devem estar dentro de uma diretoria com a seguinte estrutura:\n",
    "    question_x\\version_x\\true_or_false_question.pdf sendo x o numero da questão\n",
    "\n",
    "    O nome dos ficheiros deve ser o seguinte:\n",
    "    Pdf -> true_or_false_question.pdf\n",
    "    Latex -> true_or_false_question.tex\n",
    "    Python -> program.py\n",
    "    -----------------------------------------------------------------------------------------\n",
    "    Parametros:\n",
    "        path : str\n",
    "            string com o caminho para a diretoria que contem as várias questões\n",
    "\n",
    "    ------------------------------------------------------------------------------------------\n",
    "    Metodos Publicos:\n",
    "        searchKeyword(self, keyword, docType='pdf')\n",
    "\n",
    "    Metodos Privados:\n",
    "        decodePython(self, path)\n",
    "        decodeTex(self, path)\n",
    "        decodePdf(self, path)\n",
    "        removeSpecialChar(self,text)\n",
    "\n",
    "\"\"\"\n",
    "class LocalSearch:\n",
    "    directory = None\n",
    "    specialCharacters = ['´', '¸', '˜', '`', '^']\n",
    "    questionFolders = None\n",
    "    def __init__(self, path):\n",
    "        assert path != None, 'None path'\n",
    "        assert isinstance(path,str), 'Path must be a string'\n",
    "        assert path , 'Path must be not empty'\n",
    "        self.directory = path\n",
    "        self.questionFolders = [x for x in os.listdir(self.directory)]\n",
    "    \n",
    "    def __decodePdf(self,path):\n",
    "        doc = fitz.open(path)\n",
    "        for page in doc:\n",
    "            text = page.getText()\n",
    "        return text\n",
    "\n",
    "\n",
    "    def __decodeTex(self,path):\n",
    "        doc = \" \".join(open(path, \"r\").readlines()).encode(\"ISO-8859-1\").decode(\"utf-8\")\n",
    "        a = LatexNodes2Text().latex_to_text(doc)\n",
    "        return a\n",
    "\n",
    "    def __decodePy(self,path):\n",
    "        doc = open(path,'r')\n",
    "        return doc.read()\n",
    "\n",
    "    def __removeSpecialChar(self,text):\n",
    "        for sChar in self.specialCharacters:\n",
    "            text = text.replace(sChar, '')\n",
    "\n",
    "        return text\n",
    "\n",
    "\n",
    "    def searchKeyword(self,keyword,docType='all'):\n",
    "        pdfResult = []\n",
    "        resultadoFinal = {}\n",
    "        keyword = unidecode.unidecode(keyword)\n",
    "\n",
    "        keyword = keyword.split()   \n",
    "        for i in keyword:\n",
    "            if(len(i)<3):\n",
    "                keyword.remove(i)\n",
    "        \n",
    "        # Percorre todas as perguntas\n",
    "\n",
    "        for i in keyword:    \n",
    "            for question in self.questionFolders:\n",
    "                text = \"\"\n",
    "                path = self.directory + \"\\\\\" + question + \"\\\\version_1\"\n",
    "                # Para cada pergunta vai ao pdf, ao tex e ao py para ver se \n",
    "                if docType == 'pdf' or docType =='all':\n",
    "                    pathPdf = path +\"\\\\true_or_false_question.pdf\"\n",
    "                    text = self.__decodePdf(pathPdf)\n",
    "\n",
    "                    if re.search(i, text, flags=re.IGNORECASE) is not None:\n",
    "                        pdfResult.append(pathPdf)\n",
    "\n",
    "\n",
    "                if docType == 'latex'or docType =='all':\n",
    "                    pathTex = path +\"\\\\true_or_false_question.tex\"\n",
    "                    text = self.__decodeTex(pathTex)\n",
    "                    pathPy = path +\"\\\\program.py\"\n",
    "                    text += self.__decodePy(pathPy)\n",
    "\n",
    "                    if re.search(i, text, flags=re.IGNORECASE) is not None:\n",
    "                        pdfResult.append(pathTex)\n",
    "\n",
    "                if docType == 'python'or docType =='all':\n",
    "                    pathPy = path +\"\\\\program.py\"\n",
    "                    text = self.__decodePy(pathPy)\n",
    "\n",
    "                    if re.search(i, text, flags=re.IGNORECASE) is not None:\n",
    "                        pdfResult.append(pathPy)\n",
    "\n",
    "\n",
    "                if docType !='python' and docType !='latex' and docType !='pdf' and docType !='all':\n",
    "                    return [\"Error - wrong Document Type\"]\n",
    "\n",
    "        for i in pdfResult:\n",
    "            if i in resultadoFinal.keys():\n",
    "                resultadoFinal[i]+=1\n",
    "            else:\n",
    "                resultadoFinal[i]=1\n",
    "        {k: v for k, v in sorted(resultadoFinal.items(), key=lambda item: item[1])}\n",
    "        return list(resultadoFinal.keys())\n",
    "\n",
    "   \n",
    "        \n",
    "# ls = LocalSearch(\"C:\\\\Users\\\\ASUS\\\\Desktop\\\\Semestre6\\\\Projeto\\\\perguntas\")\n",
    "# print(ls.searchKeyword(\"pseudo_random_integer\"))\n",
    "\n",
    "############################ TESTE INTERFACE ############################\n",
    "def SearchWidget(event):\n",
    "    out.clear_output()\n",
    "    with out:\n",
    "        result = \"\\n\".join(LS.searchKeyword(text.value, dropDown.value))\n",
    "        print(result)\n",
    "            \n",
    "    return\n",
    "\n",
    "out = ipywidgets.Output()\n",
    "\n",
    "LS = LocalSearch(\"C:\\\\Users\\\\ASUS\\\\Desktop\\\\Semestre6\\\\Projeto\\\\perguntas\")\n",
    "\n",
    "\n",
    "text = ipywidgets.Text(placeholder = 'keyword')\n",
    "button = ipywidgets.Button(description='Search', icon='search')\n",
    "button.on_click(SearchWidget)\n",
    "\n",
    "dropDown = ipywidgets.Dropdown(\n",
    "    options=['all','pdf', 'python', 'latex'],\n",
    "    value='all',\n",

    "    description='Type:',\n",
    "    disabled=False,\n",
    ")\n",
    "\n",
    "display(text,dropDown,button)\n",
    "display(out)"
   ]
  }
 ],
 "metadata": {
  "kernelspec": {
   "display_name": "Python 3",
   "language": "python",
   "name": "python3"
  },
  "language_info": {
   "codemirror_mode": {
    "name": "ipython",
    "version": 3
   },
   "file_extension": ".py",
   "mimetype": "text/x-python",
   "name": "python",
   "nbconvert_exporter": "python",
   "pygments_lexer": "ipython3",
   "version": "3.7.4"
  }
 },
 "nbformat": 4,
 "nbformat_minor": 2
}
