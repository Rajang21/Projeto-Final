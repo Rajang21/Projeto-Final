{
 "cells": [
  {
   "cell_type": "code",
   "execution_count": 31,
   "metadata": {},
   "outputs": [
    {
     "ename": "AssertionError",
     "evalue": "Path must be not empty",
     "output_type": "error",
     "traceback": [
      "\u001b[1;31m---------------------------------------------------------------------------\u001b[0m",
      "\u001b[1;31mAssertionError\u001b[0m                            Traceback (most recent call last)",
      "\u001b[1;32m<ipython-input-31-07d38bf3af3f>\u001b[0m in \u001b[0;36m<module>\u001b[1;34m\u001b[0m\n\u001b[0;32m     71\u001b[0m \u001b[1;33m\u001b[0m\u001b[0m\n\u001b[0;32m     72\u001b[0m \u001b[1;31m# ls = LocalSearch(\"C:\\\\Users\\\\ASUS\\\\Desktop\\\\Semestre6\\\\Projeto\\\\perguntas\")\u001b[0m\u001b[1;33m\u001b[0m\u001b[1;33m\u001b[0m\u001b[1;33m\u001b[0m\u001b[0m\n\u001b[1;32m---> 73\u001b[1;33m \u001b[0mls\u001b[0m \u001b[1;33m=\u001b[0m \u001b[0mLocalSearch\u001b[0m\u001b[1;33m(\u001b[0m\u001b[1;34m''\u001b[0m\u001b[1;33m)\u001b[0m\u001b[1;33m\u001b[0m\u001b[1;33m\u001b[0m\u001b[0m\n\u001b[0m\u001b[0;32m     74\u001b[0m \u001b[0mprint\u001b[0m\u001b[1;33m(\u001b[0m\u001b[0mls\u001b[0m\u001b[1;33m.\u001b[0m\u001b[0msearchKeyword\u001b[0m\u001b[1;33m(\u001b[0m\u001b[1;34m\"pseudo_random_integer\"\u001b[0m\u001b[1;33m,\u001b[0m\u001b[1;34m'python'\u001b[0m\u001b[1;33m)\u001b[0m\u001b[1;33m)\u001b[0m\u001b[1;33m\u001b[0m\u001b[1;33m\u001b[0m\u001b[0m\n",
      "\u001b[1;32m<ipython-input-31-07d38bf3af3f>\u001b[0m in \u001b[0;36m__init__\u001b[1;34m(self, path)\u001b[0m\n\u001b[0;32m     15\u001b[0m         \u001b[1;32massert\u001b[0m \u001b[0mpath\u001b[0m \u001b[1;33m!=\u001b[0m \u001b[1;32mNone\u001b[0m\u001b[1;33m,\u001b[0m \u001b[1;34m'None path'\u001b[0m\u001b[1;33m\u001b[0m\u001b[1;33m\u001b[0m\u001b[0m\n\u001b[0;32m     16\u001b[0m         \u001b[1;32massert\u001b[0m \u001b[0misinstance\u001b[0m\u001b[1;33m(\u001b[0m\u001b[0mpath\u001b[0m\u001b[1;33m,\u001b[0m\u001b[0mstr\u001b[0m\u001b[1;33m)\u001b[0m\u001b[1;33m,\u001b[0m \u001b[1;34m'Path must be a string'\u001b[0m\u001b[1;33m\u001b[0m\u001b[1;33m\u001b[0m\u001b[0m\n\u001b[1;32m---> 17\u001b[1;33m         \u001b[1;32massert\u001b[0m \u001b[0mpath\u001b[0m \u001b[1;33m,\u001b[0m \u001b[1;34m'Path must be not empty'\u001b[0m\u001b[1;33m\u001b[0m\u001b[1;33m\u001b[0m\u001b[0m\n\u001b[0m\u001b[0;32m     18\u001b[0m \u001b[1;33m\u001b[0m\u001b[0m\n\u001b[0;32m     19\u001b[0m         \u001b[0mself\u001b[0m\u001b[1;33m.\u001b[0m\u001b[0mquestionFolders\u001b[0m \u001b[1;33m=\u001b[0m \u001b[1;33m[\u001b[0m\u001b[0mx\u001b[0m \u001b[1;32mfor\u001b[0m \u001b[0mx\u001b[0m \u001b[1;32min\u001b[0m \u001b[0mos\u001b[0m\u001b[1;33m.\u001b[0m\u001b[0mlistdir\u001b[0m\u001b[1;33m(\u001b[0m\u001b[0mself\u001b[0m\u001b[1;33m.\u001b[0m\u001b[0mdirectory\u001b[0m\u001b[1;33m)\u001b[0m\u001b[1;33m]\u001b[0m\u001b[1;33m\u001b[0m\u001b[1;33m\u001b[0m\u001b[0m\n",
      "\u001b[1;31mAssertionError\u001b[0m: Path must be not empty"
     ]
    }
   ],
   "source": [
    "# -*- coding: utf-8 -*-\n",
    "import fitz  # PyMUPDF\n",
    "import os\n",
    "import unidecode\n",
    "import re\n",
    "from pylatexenc.latexwalker import LatexWalker, LatexEnvironmentNode\n",
    "from pylatexenc.latex2text import LatexNodes2Text\n",
    "\n",
    "\n",
    "class LocalSearch:\n",
    "    directory = None\n",
    "    specialCharacters = ['´', '¸', '˜', '`', '^']\n",
    "    questionFolders = None\n",
    "    def __init__(self, path):\n",
    "        assert path != None, 'None path'\n",
    "        assert isinstance(path,str), 'Path must be a string'\n",
    "        assert path , 'Path must be not empty'\n",
    "        \n",
    "        self.questionFolders = [x for x in os.listdir(self.directory)]\n",
    "    \n",
    "    def __decodePdf(self,path):\n",
    "        doc = fitz.open(path)\n",
    "        for page in doc:\n",
    "            text = page.getText()\n",
    "        return text\n",
    "\n",
    "\n",
    "    def __decodeTex(self,path):\n",
    "        doc = \" \".join(open(path, \"r\").readlines()).encode(\"ISO-8859-1\").decode(\"utf-8\")\n",
    "        return LatexNodes2Text().latex_to_text(doc)\n",
    "\n",
    "    def __decodePy(self,path):\n",
    "        doc = open(path,'r')\n",
    "        return doc.read()\n",
    "\n",
    "    def __removeSpecialChar(self,text):\n",
    "        for sChar in self.specialCharacters:\n",
    "            text = text.replace(sChar, '')\n",
    "\n",
    "        return text\n",
    "\n",
    "\n",
    "    def searchKeyword(self,keyword):\n",
    "        pdfResult = []\n",
    "\n",
    "        for question in self.questionFolders:\n",
    "            text = \"\"\n",
    "            path = self.directory + \"\\\\\" + question + \"\\\\version_1\"\n",
    "    \n",
    "            if docType == 'pdf':\n",
    "                path += \"\\\\true_or_false_question.pdf\"\n",
    "                text = self.__decodePdf(path)\n",
    "            \n",
    "            elif docType == 'latex':\n",
    "                path += \"\\\\true_or_false_question.tex\"\n",
    "                text = self.__decodeTex(path)\n",
    "\n",
    "            elif docType == 'python':\n",
    "                path += \"\\\\program.py\"\n",
    "                text = self.__decodePy(path)\n",
    "\n",
    "            else:\n",
    "                return [\"Error - wrong Document Type\"]\n",
    "\n",
    "            keyword = unidecode.unidecode(keyword)\n",
    "\n",
    "            if re.search(keyword, text, flags=re.IGNORECASE) is not None:\n",
    "                pdfResult.append(path)\n",
    "\n",
    "        return pdfResult\n",
    "\n",
    "# ls = LocalSearch(\"C:\\\\Users\\\\ASUS\\\\Desktop\\\\Semestre6\\\\Projeto\\\\perguntas\")\n",
    "ls = LocalSearch('')\n",
    "print(ls.searchKeyword(\"pseudo_random_integer\",'python'))\n"
   ]
  },
  {
   "cell_type": "code",
   "execution_count": null,
   "metadata": {},
   "outputs": [],
   "source": []
  }
 ],
 "metadata": {
  "kernelspec": {
   "display_name": "Python 3",
   "language": "python",
   "name": "python3"
  },
  "language_info": {
   "codemirror_mode": {
    "name": "ipython",
    "version": 3
   },
   "file_extension": ".py",
   "mimetype": "text/x-python",
   "name": "python",
   "nbconvert_exporter": "python",
   "pygments_lexer": "ipython3",
   "version": "3.7.4"
  }
 },
 "nbformat": 4,
 "nbformat_minor": 2
}
