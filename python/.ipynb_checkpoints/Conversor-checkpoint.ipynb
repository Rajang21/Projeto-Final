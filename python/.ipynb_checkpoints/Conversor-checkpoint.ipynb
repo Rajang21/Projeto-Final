{
 "cells": [
  {
   "cell_type": "code",
   "execution_count": 1,
   "metadata": {},
   "outputs": [
    {
     "name": "stdout",
     "output_type": "stream",
     "text": [
      "Considere o programa, Pyhton 3, que se segue.\n",
      "Ignore a vari´avel seed e a fun¸c˜ao\n",
      "pseudo_random_integer, que se destinam exclusivamente `a gera¸c˜ao de n´umeros pseudo-\n",
      "aleat´orios.\n",
      "seed = 1116111\n",
      "def pseudo random integer ( min int ,\n",
      "max int ) :\n",
      "global seed\n",
      "seed = (16807∗ seed ) % 2147483647\n",
      "return int ( min int + ( max int − min int ) ∗ seed / 2147483646)\n",
      "h = [ ]\n",
      "for p in range (19624):\n",
      "h . append ( pseudo random integer (750 ,\n",
      "1750))\n",
      "Acrescente a este programa o c´odigo que lhe permita indicar se as aﬁma¸c˜oes seguintes s˜ao\n",
      "verdadeiras ou falsas.\n",
      "Indique se ´e veradeiro ou falso.\n",
      "\n",
      "\n",
      " \n",
      " O elemento da lista , no índice , é 1690.\n",
      " \n",
      " \n"
     ]
    }
   ],
   "source": [
    "# -*- coding: utf-8 -*-\n",
    "import fitz  # PyMUPDF\n",
    "from pylatexenc.latexwalker import LatexWalker, LatexEnvironmentNode\n",
    "from pylatexenc.latex2text import LatexNodes2Text\n",
    "\n",
    "\n",
    "def decodePdf(path):\n",
    "    doc = fitz.open(path)\n",
    "    for page in doc:\n",
    "        text = page.getText()\n",
    "    return text\n",
    "\n",
    "\n",
    "def decodeTex(path):\n",
    "    doc = \" \".join(open(path, \"r\").readlines()).encode(\"ISO-8859-1\").decode(\"utf-8\")\n",
    "    return LatexNodes2Text().latex_to_text(doc)\n",
    "\n",
    "\n",
    "print(decodePdf(\"true_or_false_question.pdf\"))\n",
    "print(decodeTex(\"answer_1_true.tex\"))\n"
   ]
  }
 ],
 "metadata": {
  "kernelspec": {
   "display_name": "Python 3",
   "language": "python",
   "name": "python3"
  },
  "language_info": {
   "codemirror_mode": {
    "name": "ipython",
    "version": 3
   },
   "file_extension": ".py",
   "mimetype": "text/x-python",
   "name": "python",
   "nbconvert_exporter": "python",
   "pygments_lexer": "ipython3",
   "version": "3.7.4"
  }
 },
 "nbformat": 4,
 "nbformat_minor": 2
}
